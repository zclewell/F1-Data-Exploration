{
 "cells": [
  {
   "cell_type": "markdown",
   "metadata": {},
   "source": [
    "# Austin COTA S Curve Speeds\n",
    "\n",
    "After attending the Formula 1 race in Austin at Circuit of the Americas I was interest how the speeds compare for the section of the track where I was watching from.\n",
    "\n",
    "Install Dependencies..."
   ]
  },
  {
   "cell_type": "code",
   "execution_count": 147,
   "metadata": {},
   "outputs": [],
   "source": [
    "import fastf1 as ff1\n",
    "import pandas as pd\n",
    "import numpy as np\n",
    "\n",
    "import matplotlib.pyplot as plt\n",
    "from tqdm import tqdm"
   ]
  },
  {
   "cell_type": "markdown",
   "metadata": {},
   "source": [
    "Enable cache so we don't have to download all the time"
   ]
  },
  {
   "cell_type": "code",
   "execution_count": 148,
   "metadata": {},
   "outputs": [],
   "source": [
    "ff1.Cache.enable_cache('cache') "
   ]
  },
  {
   "cell_type": "markdown",
   "metadata": {},
   "source": [
    "Get the data from the Austin Race"
   ]
  },
  {
   "cell_type": "code",
   "execution_count": 149,
   "metadata": {},
   "outputs": [
    {
     "name": "stderr",
     "output_type": "stream",
     "text": [
      "core           INFO \tLoading laps for United States Grand Prix - Race [v2.1.13]\n",
      "api            INFO \tUsing cached data for timing_data\n",
      "api            INFO \tUsing cached data for timing_app_data\n",
      "core           INFO \tProcessing timing data...\n",
      "api            INFO \tUsing cached data for driver_info\n",
      "api            INFO \tUsing cached data for session_status_data\n",
      "api            INFO \tUsing cached data for track_status_data\n",
      "api            INFO \tUsing cached data for car_data\n",
      "api            INFO \tUsing cached data for position_data\n",
      "api            INFO \tUsing cached data for weather_data\n",
      "core           INFO \tLoaded data for 20 drivers: ['16', '77', '14', '5', '63', '9', '31', '44', '7', '3', '33', '6', '10', '55', '4', '22', '47', '99', '18', '11']\n"
     ]
    }
   ],
   "source": [
    "session = ff1.get_session(2021, 'Austin')\n",
    "\n",
    "race = session.get_race()\n",
    "race = race.load_laps(with_telemetry=True)"
   ]
  },
  {
   "cell_type": "markdown",
   "metadata": {},
   "source": [
    "Get telemetry data from (super) Max to see where the S curve is"
   ]
  },
  {
   "cell_type": "code",
   "execution_count": 150,
   "metadata": {},
   "outputs": [],
   "source": [
    "ver = race.pick_driver('VER')\n",
    "telemetry = ver.get_telemetry()"
   ]
  },
  {
   "cell_type": "markdown",
   "metadata": {},
   "source": [
    "Plot the coords to get the track outline"
   ]
  },
  {
   "cell_type": "code",
   "execution_count": 151,
   "metadata": {},
   "outputs": [
    {
     "data": {
      "text/plain": [
       "<matplotlib.collections.PathCollection at 0x7fbda433ba90>"
      ]
     },
     "execution_count": 151,
     "metadata": {},
     "output_type": "execute_result"
    },
    {
     "data": {
      "image/png": "[encoded data removed]",
      "text/plain": [
       "<Figure size 432x288 with 1 Axes>"
      ]
     },
     "metadata": {
      "needs_background": "light"
     },
     "output_type": "display_data"
    }
   ],
   "source": [
    "pos_x = telemetry['X']\n",
    "pos_y = telemetry['Y']\n",
    "\n",
    "plt.scatter(pos_x, pos_y)"
   ]
  },
  {
   "cell_type": "markdown",
   "metadata": {},
   "source": [
    "Stab at the coords until it looks right..."
   ]
  },
  {
   "cell_type": "code",
   "execution_count": 152,
   "metadata": {},
   "outputs": [
    {
     "data": {
      "text/plain": [
       "<matplotlib.collections.PathCollection at 0x7fbd408b59a0>"
      ]
     },
     "execution_count": 152,
     "metadata": {},
     "output_type": "execute_result"
    },
    {
     "data": {
      "image/png": "[encoded data removed]",
      "text/plain": [
       "<Figure size 432x288 with 1 Axes>"
      ]
     },
     "metadata": {
      "needs_background": "light"
     },
     "output_type": "display_data"
    }
   ],
   "source": [
    "plt.xlim(6250, 12000)\n",
    "plt.ylim(1500, 4000)\n",
    "plt.scatter(hot_x, hot_y, c=hot_speed)"
   ]
  },
  {
   "cell_type": "markdown",
   "metadata": {},
   "source": [
    "Sure these seem good enough"
   ]
  },
  {
   "cell_type": "code",
   "execution_count": 153,
   "metadata": {},
   "outputs": [],
   "source": [
    "xmin, xmax = 6250, 12000\n",
    "ymin, ymax = 1500, 4000"
   ]
  },
  {
   "cell_type": "markdown",
   "metadata": {},
   "source": [
    "Get driver names to iterate through later"
   ]
  },
  {
   "cell_type": "code",
   "execution_count": 154,
   "metadata": {},
   "outputs": [],
   "source": [
    "drivers = race['Driver'].unique()"
   ]
  },
  {
   "cell_type": "code",
   "execution_count": 155,
   "metadata": {},
   "outputs": [
    {
     "name": "stderr",
     "output_type": "stream",
     "text": [
      "100%|██████████| 20/20 [00:14<00:00,  1.42it/s]\n"
     ]
    }
   ],
   "source": [
    "results = []\n",
    "\n",
    "for driver in tqdm(drivers):\n",
    "    telemetry = race.pick_driver(driver).get_telemetry()\n",
    "    valid_idx = [telemetry['X'] > xmin] and [telemetry['X'] < xmax] and [telemetry['Y'] > ymin] and [telemetry['Y'] < ymax]\n",
    "    valid_data = telemetry.loc[valid_idx[0]]\n",
    "    \n",
    "    avg_speed = valid_data['Speed'].mean()\n",
    "    results.append((driver, avg_speed))"
   ]
  },
  {
   "cell_type": "markdown",
   "metadata": {},
   "source": [
    "Sort by speed and print"
   ]
  },
  {
   "cell_type": "code",
   "execution_count": 156,
   "metadata": {},
   "outputs": [
    {
     "data": {
      "text/plain": [
       "[('VER', 184.34750772180212),\n",
       " ('HAM', 184.26469883048725),\n",
       " ('PER', 182.96449438202248),\n",
       " ('LEC', 182.66036889463547),\n",
       " ('RIC', 181.42423208191127),\n",
       " ('SAI', 181.30760767054386),\n",
       " ('BOT', 181.2119662155073),\n",
       " ('NOR', 181.08500379949166),\n",
       " ('VET', 179.5639774166315),\n",
       " ('TSU', 179.43037874176215),\n",
       " ('STR', 178.92365749750172),\n",
       " ('GIO', 178.83038041332105),\n",
       " ('RUS', 178.57941222858946),\n",
       " ('ALO', 178.513203316319),\n",
       " ('RAI', 177.87396434189827),\n",
       " ('LAT', 177.4669122449513),\n",
       " ('MSC', 177.06011769071728),\n",
       " ('OCO', 174.66690257970913),\n",
       " ('MAZ', 174.23379231210558),\n",
       " ('GAS', 169.67851837179361)]"
      ]
     },
     "execution_count": 156,
     "metadata": {},
     "output_type": "execute_result"
    }
   ],
   "source": [
    "sorted(results, key=lambda x: x[1], reverse=True)"
   ]
  },
  {
   "cell_type": "markdown",
   "metadata": {},
   "source": [
    "Interesting, but this doesn't account for spin outs and runoff which would hurt some drivers. Let's look at fastest lap for a fair(er) comparison."
   ]
  },
  {
   "cell_type": "code",
   "execution_count": 157,
   "metadata": {},
   "outputs": [
    {
     "name": "stderr",
     "output_type": "stream",
     "text": [
      "100%|██████████| 20/20 [00:07<00:00,  2.57it/s]\n"
     ]
    }
   ],
   "source": [
    "results = []\n",
    "\n",
    "for driver in tqdm(drivers):\n",
    "    telemetry = race.pick_driver(driver).pick_fastest().get_telemetry()\n",
    "    valid_idx = [telemetry['X'] > xmin] and [telemetry['X'] < xmax] and [telemetry['Y'] > ymin] and [telemetry['Y'] < ymax]\n",
    "    valid_data = telemetry.loc[valid_idx[0]]\n",
    "    \n",
    "    avg_speed = valid_data['Speed'].mean()\n",
    "    results.append((driver, avg_speed))"
   ]
  },
  {
   "cell_type": "code",
   "execution_count": 158,
   "metadata": {},
   "outputs": [
    {
     "data": {
      "text/plain": [
       "[('HAM', 191.45552147239263),\n",
       " ('VER', 190.27105666156203),\n",
       " ('LEC', 189.79420731707316),\n",
       " ('PER', 189.44224924012158),\n",
       " ('ALO', 188.0332326283988),\n",
       " ('VET', 187.2867867867868),\n",
       " ('NOR', 187.25714285714287),\n",
       " ('BOT', 186.77560240963857),\n",
       " ('GIO', 186.3688155922039),\n",
       " ('RIC', 186.32631578947368),\n",
       " ('STR', 186.29790419161677),\n",
       " ('RUS', 185.9550898203593),\n",
       " ('TSU', 185.62537313432836),\n",
       " ('SAI', 185.24328358208956),\n",
       " ('MSC', 185.2225519287834),\n",
       " ('LAT', 184.74035608308606),\n",
       " ('GAS', 184.49925925925925),\n",
       " ('RAI', 184.49703264094956),\n",
       " ('OCO', 183.82448377581122),\n",
       " ('MAZ', 181.75620437956204)]"
      ]
     },
     "execution_count": 158,
     "metadata": {},
     "output_type": "execute_result"
    }
   ],
   "source": [
    "sorted(results, key=lambda x: x[1], reverse=True)"
   ]
  },
  {
   "cell_type": "code",
   "execution_count": 159,
   "metadata": {},
   "outputs": [
    {
     "data": {
      "text/plain": [
       "[('HAM', 191.45552147239263),\n",
       " ('VER', 190.27105666156203),\n",
       " ('LEC', 189.79420731707316),\n",
       " ('PER', 189.44224924012158),\n",
       " ('ALO', 188.0332326283988),\n",
       " ('VET', 187.2867867867868),\n",
       " ('NOR', 187.25714285714287),\n",
       " ('BOT', 186.77560240963857),\n",
       " ('GIO', 186.3688155922039),\n",
       " ('RIC', 186.32631578947368),\n",
       " ('STR', 186.29790419161677),\n",
       " ('RUS', 185.9550898203593),\n",
       " ('TSU', 185.62537313432836),\n",
       " ('SAI', 185.24328358208956),\n",
       " ('MSC', 185.2225519287834),\n",
       " ('LAT', 184.74035608308606),\n",
       " ('GAS', 184.49925925925925),\n",
       " ('RAI', 184.49703264094956),\n",
       " ('OCO', 183.82448377581122),\n",
       " ('MAZ', 181.75620437956204)]"
      ]
     },
     "execution_count": 159,
     "metadata": {},
     "output_type": "execute_result"
    }
   ],
   "source": [
    "sorted(results, key=lambda x: x[1], reverse=True)"
   ]
  },
  {
   "cell_type": "markdown",
   "metadata": {},
   "source": [
    "Hamilton was about 6 kilometers/hour faster than Mick , who was still 4 kilometers/hour faster than his teammate Mazepin."
   ]
  },
  {
   "cell_type": "markdown",
   "metadata": {},
   "source": [
    "A more fair comparison would exclude any points in a lap when a drive went off track. It would also ignore any laps that occured under a safety car. Should get around to that at somepoint.. //TODO\n"
   ]
  }
 ],
 "metadata": {
  "kernelspec": {
   "display_name": "Python 3",
   "language": "python",
   "name": "python3"
  },
  "language_info": {
   "codemirror_mode": {
    "name": "ipython",
    "version": 3
   },
   "file_extension": ".py",
   "mimetype": "text/x-python",
   "name": "python",
   "nbconvert_exporter": "python",
   "pygments_lexer": "ipython3",
   "version": "3.8.5"
  }
 },
 "nbformat": 4,
 "nbformat_minor": 4
}
